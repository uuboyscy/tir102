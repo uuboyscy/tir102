{
 "cells": [
  {
   "cell_type": "code",
   "execution_count": 1,
   "metadata": {},
   "outputs": [],
   "source": [
    "import pandas as pd"
   ]
  },
  {
   "cell_type": "code",
   "execution_count": 2,
   "metadata": {},
   "outputs": [
    {
     "data": {
      "text/html": [
       "<div>\n",
       "<style scoped>\n",
       "    .dataframe tbody tr th:only-of-type {\n",
       "        vertical-align: middle;\n",
       "    }\n",
       "\n",
       "    .dataframe tbody tr th {\n",
       "        vertical-align: top;\n",
       "    }\n",
       "\n",
       "    .dataframe thead th {\n",
       "        text-align: right;\n",
       "    }\n",
       "</style>\n",
       "<table border=\"1\" class=\"dataframe\">\n",
       "  <thead>\n",
       "    <tr style=\"text-align: right;\">\n",
       "      <th></th>\n",
       "      <th>推</th>\n",
       "      <th>噓</th>\n",
       "      <th>分數</th>\n",
       "      <th>作者</th>\n",
       "      <th>標題</th>\n",
       "      <th>時間</th>\n",
       "    </tr>\n",
       "  </thead>\n",
       "  <tbody>\n",
       "    <tr>\n",
       "      <th>0</th>\n",
       "      <td>推: 25</td>\n",
       "      <td>噓: 4</td>\n",
       "      <td>分數: 21</td>\n",
       "      <td>作者: Rusnake5566 (魯蛇+56 PTT最強帳號)</td>\n",
       "      <td>標題: [問卦] 兩個候選人選前一個月同時陣亡的可能性</td>\n",
       "      <td>時間: Fri Oct  2 13:56:39 2020</td>\n",
       "    </tr>\n",
       "    <tr>\n",
       "      <th>1</th>\n",
       "      <td>推: 11</td>\n",
       "      <td>噓: 11</td>\n",
       "      <td>分數: 0</td>\n",
       "      <td>作者: LoveMakeLove (ボケ)</td>\n",
       "      <td>標題: [新聞]江啟臣：兩岸是不對稱的戰爭 從募兵改徵兵</td>\n",
       "      <td>時間: Wed Oct  7 18:53:08 2020</td>\n",
       "    </tr>\n",
       "    <tr>\n",
       "      <th>2</th>\n",
       "      <td>推: 20</td>\n",
       "      <td>噓: 0</td>\n",
       "      <td>分數: 20</td>\n",
       "      <td>作者: MintSu (Simon)</td>\n",
       "      <td>標題: [問卦] 如果川普老婆死於武漢肺炎會怎麼樣？</td>\n",
       "      <td>時間: Fri Oct  2 13:30:55 2020</td>\n",
       "    </tr>\n",
       "    <tr>\n",
       "      <th>3</th>\n",
       "      <td>推: 31</td>\n",
       "      <td>噓: 2</td>\n",
       "      <td>分數: 29</td>\n",
       "      <td>作者: seiya2000 (風見)</td>\n",
       "      <td>標題: [問卦] 為什麼古代生物體型可以長到這麼大？</td>\n",
       "      <td>時間: Fri Oct  2 12:35:18 2020</td>\n",
       "    </tr>\n",
       "    <tr>\n",
       "      <th>4</th>\n",
       "      <td>推: 106</td>\n",
       "      <td>噓: 6</td>\n",
       "      <td>分數: 100</td>\n",
       "      <td>作者: kasumi5566 (霞)</td>\n",
       "      <td>標題: [問卦] 支那女生是不是都沒錢修補衣服</td>\n",
       "      <td>時間: Fri Oct  2 13:43:25 2020</td>\n",
       "    </tr>\n",
       "  </tbody>\n",
       "</table>\n",
       "</div>"
      ],
      "text/plain": [
       "        推      噓       分數                               作者  \\\n",
       "0   推: 25   噓: 4   分數: 21  作者: Rusnake5566 (魯蛇+56 PTT最強帳號)   \n",
       "1   推: 11  噓: 11    分數: 0            作者: LoveMakeLove (ボケ)   \n",
       "2   推: 20   噓: 0   分數: 20               作者: MintSu (Simon)   \n",
       "3   推: 31   噓: 2   分數: 29               作者: seiya2000 (風見)   \n",
       "4  推: 106   噓: 6  分數: 100               作者: kasumi5566 (霞)   \n",
       "\n",
       "                             標題                            時間  \n",
       "0   標題: [問卦] 兩個候選人選前一個月同時陣亡的可能性  時間: Fri Oct  2 13:56:39 2020  \n",
       "1  標題: [新聞]江啟臣：兩岸是不對稱的戰爭 從募兵改徵兵  時間: Wed Oct  7 18:53:08 2020  \n",
       "2    標題: [問卦] 如果川普老婆死於武漢肺炎會怎麼樣？  時間: Fri Oct  2 13:30:55 2020  \n",
       "3    標題: [問卦] 為什麼古代生物體型可以長到這麼大？  時間: Fri Oct  2 12:35:18 2020  \n",
       "4       標題: [問卦] 支那女生是不是都沒錢修補衣服  時間: Fri Oct  2 13:43:25 2020  "
      ]
     },
     "execution_count": 2,
     "metadata": {},
     "output_type": "execute_result"
    }
   ],
   "source": [
    "file_path = \"/workspaces/tir102/data-pipeline/src/pandas_practice/ptt.csv\"\n",
    "\n",
    "df = pd.read_csv(file_path)\n",
    "\n",
    "df.head()"
   ]
  },
  {
   "cell_type": "code",
   "execution_count": 3,
   "metadata": {},
   "outputs": [],
   "source": [
    "\"\"\"\n",
    "Define a function to do this:\n",
    "\"推: 25\"  -> 25\n",
    "\"\"\"\n",
    "def tmp_apply(input_str: str) -> int:\n",
    "    return int(input_str.split(\": \")[1])\n",
    "\n",
    "def tmp_apply(input_str: str) -> int:\n",
    "    return int(input_str.replace(\"推: \", \"\").strip())"
   ]
  },
  {
   "cell_type": "code",
   "execution_count": 4,
   "metadata": {},
   "outputs": [
    {
     "data": {
      "text/plain": [
       "0       推: 25\n",
       "1       推: 11\n",
       "2       推: 20\n",
       "3       推: 31\n",
       "4      推: 106\n",
       "        ...  \n",
       "701      推: 5\n",
       "702      推: 7\n",
       "703      推: 0\n",
       "704     推: 15\n",
       "705      推: 5\n",
       "Name: 推, Length: 706, dtype: object"
      ]
     },
     "execution_count": 4,
     "metadata": {},
     "output_type": "execute_result"
    }
   ],
   "source": [
    "df[\"推\"]"
   ]
  },
  {
   "cell_type": "code",
   "execution_count": 5,
   "metadata": {},
   "outputs": [
    {
     "data": {
      "text/plain": [
       "0       25\n",
       "1       11\n",
       "2       20\n",
       "3       31\n",
       "4      106\n",
       "      ... \n",
       "701      5\n",
       "702      7\n",
       "703      0\n",
       "704     15\n",
       "705      5\n",
       "Name: 推, Length: 706, dtype: int64"
      ]
     },
     "execution_count": 5,
     "metadata": {},
     "output_type": "execute_result"
    }
   ],
   "source": [
    "df[\"推\"].apply(tmp_apply)"
   ]
  },
  {
   "cell_type": "code",
   "execution_count": 6,
   "metadata": {},
   "outputs": [
    {
     "data": {
      "text/html": [
       "<div>\n",
       "<style scoped>\n",
       "    .dataframe tbody tr th:only-of-type {\n",
       "        vertical-align: middle;\n",
       "    }\n",
       "\n",
       "    .dataframe tbody tr th {\n",
       "        vertical-align: top;\n",
       "    }\n",
       "\n",
       "    .dataframe thead th {\n",
       "        text-align: right;\n",
       "    }\n",
       "</style>\n",
       "<table border=\"1\" class=\"dataframe\">\n",
       "  <thead>\n",
       "    <tr style=\"text-align: right;\">\n",
       "      <th></th>\n",
       "      <th>推</th>\n",
       "      <th>噓</th>\n",
       "      <th>分數</th>\n",
       "      <th>作者</th>\n",
       "      <th>標題</th>\n",
       "      <th>時間</th>\n",
       "    </tr>\n",
       "  </thead>\n",
       "  <tbody>\n",
       "    <tr>\n",
       "      <th>0</th>\n",
       "      <td>推: 25</td>\n",
       "      <td>噓: 4</td>\n",
       "      <td>分數: 21</td>\n",
       "      <td>作者: Rusnake5566 (魯蛇+56 PTT最強帳號)</td>\n",
       "      <td>標題: [問卦] 兩個候選人選前一個月同時陣亡的可能性</td>\n",
       "      <td>時間: Fri Oct  2 13:56:39 2020</td>\n",
       "    </tr>\n",
       "    <tr>\n",
       "      <th>1</th>\n",
       "      <td>推: 11</td>\n",
       "      <td>噓: 11</td>\n",
       "      <td>分數: 0</td>\n",
       "      <td>作者: LoveMakeLove (ボケ)</td>\n",
       "      <td>標題: [新聞]江啟臣：兩岸是不對稱的戰爭 從募兵改徵兵</td>\n",
       "      <td>時間: Wed Oct  7 18:53:08 2020</td>\n",
       "    </tr>\n",
       "    <tr>\n",
       "      <th>2</th>\n",
       "      <td>推: 20</td>\n",
       "      <td>噓: 0</td>\n",
       "      <td>分數: 20</td>\n",
       "      <td>作者: MintSu (Simon)</td>\n",
       "      <td>標題: [問卦] 如果川普老婆死於武漢肺炎會怎麼樣？</td>\n",
       "      <td>時間: Fri Oct  2 13:30:55 2020</td>\n",
       "    </tr>\n",
       "    <tr>\n",
       "      <th>3</th>\n",
       "      <td>推: 31</td>\n",
       "      <td>噓: 2</td>\n",
       "      <td>分數: 29</td>\n",
       "      <td>作者: seiya2000 (風見)</td>\n",
       "      <td>標題: [問卦] 為什麼古代生物體型可以長到這麼大？</td>\n",
       "      <td>時間: Fri Oct  2 12:35:18 2020</td>\n",
       "    </tr>\n",
       "    <tr>\n",
       "      <th>4</th>\n",
       "      <td>推: 106</td>\n",
       "      <td>噓: 6</td>\n",
       "      <td>分數: 100</td>\n",
       "      <td>作者: kasumi5566 (霞)</td>\n",
       "      <td>標題: [問卦] 支那女生是不是都沒錢修補衣服</td>\n",
       "      <td>時間: Fri Oct  2 13:43:25 2020</td>\n",
       "    </tr>\n",
       "  </tbody>\n",
       "</table>\n",
       "</div>"
      ],
      "text/plain": [
       "        推      噓       分數                               作者  \\\n",
       "0   推: 25   噓: 4   分數: 21  作者: Rusnake5566 (魯蛇+56 PTT最強帳號)   \n",
       "1   推: 11  噓: 11    分數: 0            作者: LoveMakeLove (ボケ)   \n",
       "2   推: 20   噓: 0   分數: 20               作者: MintSu (Simon)   \n",
       "3   推: 31   噓: 2   分數: 29               作者: seiya2000 (風見)   \n",
       "4  推: 106   噓: 6  分數: 100               作者: kasumi5566 (霞)   \n",
       "\n",
       "                             標題                            時間  \n",
       "0   標題: [問卦] 兩個候選人選前一個月同時陣亡的可能性  時間: Fri Oct  2 13:56:39 2020  \n",
       "1  標題: [新聞]江啟臣：兩岸是不對稱的戰爭 從募兵改徵兵  時間: Wed Oct  7 18:53:08 2020  \n",
       "2    標題: [問卦] 如果川普老婆死於武漢肺炎會怎麼樣？  時間: Fri Oct  2 13:30:55 2020  \n",
       "3    標題: [問卦] 為什麼古代生物體型可以長到這麼大？  時間: Fri Oct  2 12:35:18 2020  \n",
       "4       標題: [問卦] 支那女生是不是都沒錢修補衣服  時間: Fri Oct  2 13:43:25 2020  "
      ]
     },
     "execution_count": 6,
     "metadata": {},
     "output_type": "execute_result"
    }
   ],
   "source": [
    "df.head()"
   ]
  },
  {
   "cell_type": "code",
   "execution_count": 7,
   "metadata": {},
   "outputs": [
    {
     "data": {
      "text/html": [
       "<div>\n",
       "<style scoped>\n",
       "    .dataframe tbody tr th:only-of-type {\n",
       "        vertical-align: middle;\n",
       "    }\n",
       "\n",
       "    .dataframe tbody tr th {\n",
       "        vertical-align: top;\n",
       "    }\n",
       "\n",
       "    .dataframe thead th {\n",
       "        text-align: right;\n",
       "    }\n",
       "</style>\n",
       "<table border=\"1\" class=\"dataframe\">\n",
       "  <thead>\n",
       "    <tr style=\"text-align: right;\">\n",
       "      <th></th>\n",
       "      <th>推</th>\n",
       "      <th>噓</th>\n",
       "      <th>分數</th>\n",
       "      <th>作者</th>\n",
       "      <th>標題</th>\n",
       "      <th>時間</th>\n",
       "    </tr>\n",
       "  </thead>\n",
       "  <tbody>\n",
       "    <tr>\n",
       "      <th>0</th>\n",
       "      <td>25</td>\n",
       "      <td>噓: 4</td>\n",
       "      <td>分數: 21</td>\n",
       "      <td>作者: Rusnake5566 (魯蛇+56 PTT最強帳號)</td>\n",
       "      <td>標題: [問卦] 兩個候選人選前一個月同時陣亡的可能性</td>\n",
       "      <td>時間: Fri Oct  2 13:56:39 2020</td>\n",
       "    </tr>\n",
       "    <tr>\n",
       "      <th>1</th>\n",
       "      <td>11</td>\n",
       "      <td>噓: 11</td>\n",
       "      <td>分數: 0</td>\n",
       "      <td>作者: LoveMakeLove (ボケ)</td>\n",
       "      <td>標題: [新聞]江啟臣：兩岸是不對稱的戰爭 從募兵改徵兵</td>\n",
       "      <td>時間: Wed Oct  7 18:53:08 2020</td>\n",
       "    </tr>\n",
       "    <tr>\n",
       "      <th>2</th>\n",
       "      <td>20</td>\n",
       "      <td>噓: 0</td>\n",
       "      <td>分數: 20</td>\n",
       "      <td>作者: MintSu (Simon)</td>\n",
       "      <td>標題: [問卦] 如果川普老婆死於武漢肺炎會怎麼樣？</td>\n",
       "      <td>時間: Fri Oct  2 13:30:55 2020</td>\n",
       "    </tr>\n",
       "    <tr>\n",
       "      <th>3</th>\n",
       "      <td>31</td>\n",
       "      <td>噓: 2</td>\n",
       "      <td>分數: 29</td>\n",
       "      <td>作者: seiya2000 (風見)</td>\n",
       "      <td>標題: [問卦] 為什麼古代生物體型可以長到這麼大？</td>\n",
       "      <td>時間: Fri Oct  2 12:35:18 2020</td>\n",
       "    </tr>\n",
       "    <tr>\n",
       "      <th>4</th>\n",
       "      <td>106</td>\n",
       "      <td>噓: 6</td>\n",
       "      <td>分數: 100</td>\n",
       "      <td>作者: kasumi5566 (霞)</td>\n",
       "      <td>標題: [問卦] 支那女生是不是都沒錢修補衣服</td>\n",
       "      <td>時間: Fri Oct  2 13:43:25 2020</td>\n",
       "    </tr>\n",
       "  </tbody>\n",
       "</table>\n",
       "</div>"
      ],
      "text/plain": [
       "     推      噓       分數                               作者  \\\n",
       "0   25   噓: 4   分數: 21  作者: Rusnake5566 (魯蛇+56 PTT最強帳號)   \n",
       "1   11  噓: 11    分數: 0            作者: LoveMakeLove (ボケ)   \n",
       "2   20   噓: 0   分數: 20               作者: MintSu (Simon)   \n",
       "3   31   噓: 2   分數: 29               作者: seiya2000 (風見)   \n",
       "4  106   噓: 6  分數: 100               作者: kasumi5566 (霞)   \n",
       "\n",
       "                             標題                            時間  \n",
       "0   標題: [問卦] 兩個候選人選前一個月同時陣亡的可能性  時間: Fri Oct  2 13:56:39 2020  \n",
       "1  標題: [新聞]江啟臣：兩岸是不對稱的戰爭 從募兵改徵兵  時間: Wed Oct  7 18:53:08 2020  \n",
       "2    標題: [問卦] 如果川普老婆死於武漢肺炎會怎麼樣？  時間: Fri Oct  2 13:30:55 2020  \n",
       "3    標題: [問卦] 為什麼古代生物體型可以長到這麼大？  時間: Fri Oct  2 12:35:18 2020  \n",
       "4       標題: [問卦] 支那女生是不是都沒錢修補衣服  時間: Fri Oct  2 13:43:25 2020  "
      ]
     },
     "execution_count": 7,
     "metadata": {},
     "output_type": "execute_result"
    }
   ],
   "source": [
    "df[\"推\"] = df[\"推\"].apply(tmp_apply)\n",
    "\n",
    "df.head()"
   ]
  },
  {
   "cell_type": "code",
   "execution_count": 8,
   "metadata": {},
   "outputs": [],
   "source": [
    "df[\"噓\"] = df[\"噓\"].apply(\n",
    "    lambda input_str: int(input_str.replace(\"噓: \", \"\").strip())\n",
    ")"
   ]
  },
  {
   "cell_type": "code",
   "execution_count": 9,
   "metadata": {},
   "outputs": [
    {
     "data": {
      "text/html": [
       "<div>\n",
       "<style scoped>\n",
       "    .dataframe tbody tr th:only-of-type {\n",
       "        vertical-align: middle;\n",
       "    }\n",
       "\n",
       "    .dataframe tbody tr th {\n",
       "        vertical-align: top;\n",
       "    }\n",
       "\n",
       "    .dataframe thead th {\n",
       "        text-align: right;\n",
       "    }\n",
       "</style>\n",
       "<table border=\"1\" class=\"dataframe\">\n",
       "  <thead>\n",
       "    <tr style=\"text-align: right;\">\n",
       "      <th></th>\n",
       "      <th>推</th>\n",
       "      <th>噓</th>\n",
       "      <th>分數</th>\n",
       "      <th>作者</th>\n",
       "      <th>標題</th>\n",
       "      <th>時間</th>\n",
       "    </tr>\n",
       "  </thead>\n",
       "  <tbody>\n",
       "    <tr>\n",
       "      <th>0</th>\n",
       "      <td>25</td>\n",
       "      <td>4</td>\n",
       "      <td>分數: 21</td>\n",
       "      <td>作者: Rusnake5566 (魯蛇+56 PTT最強帳號)</td>\n",
       "      <td>標題: [問卦] 兩個候選人選前一個月同時陣亡的可能性</td>\n",
       "      <td>時間: Fri Oct  2 13:56:39 2020</td>\n",
       "    </tr>\n",
       "    <tr>\n",
       "      <th>1</th>\n",
       "      <td>11</td>\n",
       "      <td>11</td>\n",
       "      <td>分數: 0</td>\n",
       "      <td>作者: LoveMakeLove (ボケ)</td>\n",
       "      <td>標題: [新聞]江啟臣：兩岸是不對稱的戰爭 從募兵改徵兵</td>\n",
       "      <td>時間: Wed Oct  7 18:53:08 2020</td>\n",
       "    </tr>\n",
       "    <tr>\n",
       "      <th>2</th>\n",
       "      <td>20</td>\n",
       "      <td>0</td>\n",
       "      <td>分數: 20</td>\n",
       "      <td>作者: MintSu (Simon)</td>\n",
       "      <td>標題: [問卦] 如果川普老婆死於武漢肺炎會怎麼樣？</td>\n",
       "      <td>時間: Fri Oct  2 13:30:55 2020</td>\n",
       "    </tr>\n",
       "    <tr>\n",
       "      <th>3</th>\n",
       "      <td>31</td>\n",
       "      <td>2</td>\n",
       "      <td>分數: 29</td>\n",
       "      <td>作者: seiya2000 (風見)</td>\n",
       "      <td>標題: [問卦] 為什麼古代生物體型可以長到這麼大？</td>\n",
       "      <td>時間: Fri Oct  2 12:35:18 2020</td>\n",
       "    </tr>\n",
       "    <tr>\n",
       "      <th>4</th>\n",
       "      <td>106</td>\n",
       "      <td>6</td>\n",
       "      <td>分數: 100</td>\n",
       "      <td>作者: kasumi5566 (霞)</td>\n",
       "      <td>標題: [問卦] 支那女生是不是都沒錢修補衣服</td>\n",
       "      <td>時間: Fri Oct  2 13:43:25 2020</td>\n",
       "    </tr>\n",
       "  </tbody>\n",
       "</table>\n",
       "</div>"
      ],
      "text/plain": [
       "     推   噓       分數                               作者  \\\n",
       "0   25   4   分數: 21  作者: Rusnake5566 (魯蛇+56 PTT最強帳號)   \n",
       "1   11  11    分數: 0            作者: LoveMakeLove (ボケ)   \n",
       "2   20   0   分數: 20               作者: MintSu (Simon)   \n",
       "3   31   2   分數: 29               作者: seiya2000 (風見)   \n",
       "4  106   6  分數: 100               作者: kasumi5566 (霞)   \n",
       "\n",
       "                             標題                            時間  \n",
       "0   標題: [問卦] 兩個候選人選前一個月同時陣亡的可能性  時間: Fri Oct  2 13:56:39 2020  \n",
       "1  標題: [新聞]江啟臣：兩岸是不對稱的戰爭 從募兵改徵兵  時間: Wed Oct  7 18:53:08 2020  \n",
       "2    標題: [問卦] 如果川普老婆死於武漢肺炎會怎麼樣？  時間: Fri Oct  2 13:30:55 2020  \n",
       "3    標題: [問卦] 為什麼古代生物體型可以長到這麼大？  時間: Fri Oct  2 12:35:18 2020  \n",
       "4       標題: [問卦] 支那女生是不是都沒錢修補衣服  時間: Fri Oct  2 13:43:25 2020  "
      ]
     },
     "execution_count": 9,
     "metadata": {},
     "output_type": "execute_result"
    }
   ],
   "source": [
    "df.head()"
   ]
  },
  {
   "cell_type": "code",
   "execution_count": 10,
   "metadata": {},
   "outputs": [
    {
     "data": {
      "text/html": [
       "<div>\n",
       "<style scoped>\n",
       "    .dataframe tbody tr th:only-of-type {\n",
       "        vertical-align: middle;\n",
       "    }\n",
       "\n",
       "    .dataframe tbody tr th {\n",
       "        vertical-align: top;\n",
       "    }\n",
       "\n",
       "    .dataframe thead th {\n",
       "        text-align: right;\n",
       "    }\n",
       "</style>\n",
       "<table border=\"1\" class=\"dataframe\">\n",
       "  <thead>\n",
       "    <tr style=\"text-align: right;\">\n",
       "      <th></th>\n",
       "      <th>推</th>\n",
       "      <th>噓</th>\n",
       "      <th>分數</th>\n",
       "      <th>作者</th>\n",
       "      <th>標題</th>\n",
       "      <th>時間</th>\n",
       "    </tr>\n",
       "  </thead>\n",
       "  <tbody>\n",
       "    <tr>\n",
       "      <th>0</th>\n",
       "      <td>25</td>\n",
       "      <td>4</td>\n",
       "      <td>21</td>\n",
       "      <td>作者: Rusnake5566 (魯蛇+56 PTT最強帳號)</td>\n",
       "      <td>標題: [問卦] 兩個候選人選前一個月同時陣亡的可能性</td>\n",
       "      <td>時間: Fri Oct  2 13:56:39 2020</td>\n",
       "    </tr>\n",
       "    <tr>\n",
       "      <th>1</th>\n",
       "      <td>11</td>\n",
       "      <td>11</td>\n",
       "      <td>0</td>\n",
       "      <td>作者: LoveMakeLove (ボケ)</td>\n",
       "      <td>標題: [新聞]江啟臣：兩岸是不對稱的戰爭 從募兵改徵兵</td>\n",
       "      <td>時間: Wed Oct  7 18:53:08 2020</td>\n",
       "    </tr>\n",
       "    <tr>\n",
       "      <th>2</th>\n",
       "      <td>20</td>\n",
       "      <td>0</td>\n",
       "      <td>20</td>\n",
       "      <td>作者: MintSu (Simon)</td>\n",
       "      <td>標題: [問卦] 如果川普老婆死於武漢肺炎會怎麼樣？</td>\n",
       "      <td>時間: Fri Oct  2 13:30:55 2020</td>\n",
       "    </tr>\n",
       "    <tr>\n",
       "      <th>3</th>\n",
       "      <td>31</td>\n",
       "      <td>2</td>\n",
       "      <td>29</td>\n",
       "      <td>作者: seiya2000 (風見)</td>\n",
       "      <td>標題: [問卦] 為什麼古代生物體型可以長到這麼大？</td>\n",
       "      <td>時間: Fri Oct  2 12:35:18 2020</td>\n",
       "    </tr>\n",
       "    <tr>\n",
       "      <th>4</th>\n",
       "      <td>106</td>\n",
       "      <td>6</td>\n",
       "      <td>100</td>\n",
       "      <td>作者: kasumi5566 (霞)</td>\n",
       "      <td>標題: [問卦] 支那女生是不是都沒錢修補衣服</td>\n",
       "      <td>時間: Fri Oct  2 13:43:25 2020</td>\n",
       "    </tr>\n",
       "  </tbody>\n",
       "</table>\n",
       "</div>"
      ],
      "text/plain": [
       "     推   噓   分數                               作者  \\\n",
       "0   25   4   21  作者: Rusnake5566 (魯蛇+56 PTT最強帳號)   \n",
       "1   11  11    0            作者: LoveMakeLove (ボケ)   \n",
       "2   20   0   20               作者: MintSu (Simon)   \n",
       "3   31   2   29               作者: seiya2000 (風見)   \n",
       "4  106   6  100               作者: kasumi5566 (霞)   \n",
       "\n",
       "                             標題                            時間  \n",
       "0   標題: [問卦] 兩個候選人選前一個月同時陣亡的可能性  時間: Fri Oct  2 13:56:39 2020  \n",
       "1  標題: [新聞]江啟臣：兩岸是不對稱的戰爭 從募兵改徵兵  時間: Wed Oct  7 18:53:08 2020  \n",
       "2    標題: [問卦] 如果川普老婆死於武漢肺炎會怎麼樣？  時間: Fri Oct  2 13:30:55 2020  \n",
       "3    標題: [問卦] 為什麼古代生物體型可以長到這麼大？  時間: Fri Oct  2 12:35:18 2020  \n",
       "4       標題: [問卦] 支那女生是不是都沒錢修補衣服  時間: Fri Oct  2 13:43:25 2020  "
      ]
     },
     "execution_count": 10,
     "metadata": {},
     "output_type": "execute_result"
    }
   ],
   "source": [
    "df[\"分數\"] = df[\"分數\"].apply(\n",
    "    lambda input_str: int(input_str.replace(\"分數: \", \"\").strip())\n",
    ")\n",
    "\n",
    "df.head()"
   ]
  },
  {
   "cell_type": "code",
   "execution_count": 11,
   "metadata": {},
   "outputs": [
    {
     "data": {
      "text/plain": [
       "<function __main__.<lambda>(input_str)>"
      ]
     },
     "execution_count": 11,
     "metadata": {},
     "output_type": "execute_result"
    }
   ],
   "source": [
    "def tmp_apply(input_str: str) -> int:\n",
    "    return int(input_str.replace(\"推: \", \"\").strip())\n",
    "\n",
    "lambda input_str: int(input_str.replace(\"推: \", \"\").strip())"
   ]
  },
  {
   "cell_type": "markdown",
   "metadata": {},
   "source": [
    "## Parse datetime string to DateTime like object"
   ]
  },
  {
   "cell_type": "code",
   "execution_count": 13,
   "metadata": {},
   "outputs": [
    {
     "data": {
      "text/html": [
       "<div>\n",
       "<style scoped>\n",
       "    .dataframe tbody tr th:only-of-type {\n",
       "        vertical-align: middle;\n",
       "    }\n",
       "\n",
       "    .dataframe tbody tr th {\n",
       "        vertical-align: top;\n",
       "    }\n",
       "\n",
       "    .dataframe thead th {\n",
       "        text-align: right;\n",
       "    }\n",
       "</style>\n",
       "<table border=\"1\" class=\"dataframe\">\n",
       "  <thead>\n",
       "    <tr style=\"text-align: right;\">\n",
       "      <th></th>\n",
       "      <th>推</th>\n",
       "      <th>噓</th>\n",
       "      <th>分數</th>\n",
       "      <th>作者</th>\n",
       "      <th>標題</th>\n",
       "      <th>時間</th>\n",
       "    </tr>\n",
       "  </thead>\n",
       "  <tbody>\n",
       "    <tr>\n",
       "      <th>0</th>\n",
       "      <td>25</td>\n",
       "      <td>4</td>\n",
       "      <td>21</td>\n",
       "      <td>作者: Rusnake5566 (魯蛇+56 PTT最強帳號)</td>\n",
       "      <td>標題: [問卦] 兩個候選人選前一個月同時陣亡的可能性</td>\n",
       "      <td>Fri Oct  2 13:56:39 2020</td>\n",
       "    </tr>\n",
       "    <tr>\n",
       "      <th>1</th>\n",
       "      <td>11</td>\n",
       "      <td>11</td>\n",
       "      <td>0</td>\n",
       "      <td>作者: LoveMakeLove (ボケ)</td>\n",
       "      <td>標題: [新聞]江啟臣：兩岸是不對稱的戰爭 從募兵改徵兵</td>\n",
       "      <td>Wed Oct  7 18:53:08 2020</td>\n",
       "    </tr>\n",
       "    <tr>\n",
       "      <th>2</th>\n",
       "      <td>20</td>\n",
       "      <td>0</td>\n",
       "      <td>20</td>\n",
       "      <td>作者: MintSu (Simon)</td>\n",
       "      <td>標題: [問卦] 如果川普老婆死於武漢肺炎會怎麼樣？</td>\n",
       "      <td>Fri Oct  2 13:30:55 2020</td>\n",
       "    </tr>\n",
       "    <tr>\n",
       "      <th>3</th>\n",
       "      <td>31</td>\n",
       "      <td>2</td>\n",
       "      <td>29</td>\n",
       "      <td>作者: seiya2000 (風見)</td>\n",
       "      <td>標題: [問卦] 為什麼古代生物體型可以長到這麼大？</td>\n",
       "      <td>Fri Oct  2 12:35:18 2020</td>\n",
       "    </tr>\n",
       "    <tr>\n",
       "      <th>4</th>\n",
       "      <td>106</td>\n",
       "      <td>6</td>\n",
       "      <td>100</td>\n",
       "      <td>作者: kasumi5566 (霞)</td>\n",
       "      <td>標題: [問卦] 支那女生是不是都沒錢修補衣服</td>\n",
       "      <td>Fri Oct  2 13:43:25 2020</td>\n",
       "    </tr>\n",
       "  </tbody>\n",
       "</table>\n",
       "</div>"
      ],
      "text/plain": [
       "     推   噓   分數                               作者  \\\n",
       "0   25   4   21  作者: Rusnake5566 (魯蛇+56 PTT最強帳號)   \n",
       "1   11  11    0            作者: LoveMakeLove (ボケ)   \n",
       "2   20   0   20               作者: MintSu (Simon)   \n",
       "3   31   2   29               作者: seiya2000 (風見)   \n",
       "4  106   6  100               作者: kasumi5566 (霞)   \n",
       "\n",
       "                             標題                        時間  \n",
       "0   標題: [問卦] 兩個候選人選前一個月同時陣亡的可能性  Fri Oct  2 13:56:39 2020  \n",
       "1  標題: [新聞]江啟臣：兩岸是不對稱的戰爭 從募兵改徵兵  Wed Oct  7 18:53:08 2020  \n",
       "2    標題: [問卦] 如果川普老婆死於武漢肺炎會怎麼樣？  Fri Oct  2 13:30:55 2020  \n",
       "3    標題: [問卦] 為什麼古代生物體型可以長到這麼大？  Fri Oct  2 12:35:18 2020  \n",
       "4       標題: [問卦] 支那女生是不是都沒錢修補衣服  Fri Oct  2 13:43:25 2020  "
      ]
     },
     "execution_count": 13,
     "metadata": {},
     "output_type": "execute_result"
    }
   ],
   "source": [
    "df[\"時間\"] = df[\"時間\"].apply(\n",
    "    lambda input_str: input_str.replace(\"時間: \", \"\").strip()\n",
    ")\n",
    "\n",
    "df.head()"
   ]
  },
  {
   "cell_type": "code",
   "execution_count": 32,
   "metadata": {},
   "outputs": [
    {
     "data": {
      "text/plain": [
       "Timestamp('2024-07-27 13:32:20')"
      ]
     },
     "execution_count": 32,
     "metadata": {},
     "output_type": "execute_result"
    }
   ],
   "source": [
    "pd.to_datetime(\"2024-07-27 13:32:20\")"
   ]
  },
  {
   "cell_type": "code",
   "execution_count": 31,
   "metadata": {},
   "outputs": [
    {
     "data": {
      "text/plain": [
       "datetime.date(2024, 7, 27)"
      ]
     },
     "execution_count": 31,
     "metadata": {},
     "output_type": "execute_result"
    }
   ],
   "source": [
    "pd.to_datetime(\"2024-07-27 13:32:20\").date()"
   ]
  },
  {
   "cell_type": "code",
   "execution_count": 33,
   "metadata": {},
   "outputs": [],
   "source": [
    "from datetime import datetime\n",
    "from datetime import date"
   ]
  },
  {
   "cell_type": "code",
   "execution_count": 37,
   "metadata": {},
   "outputs": [
    {
     "data": {
      "text/plain": [
       "False"
      ]
     },
     "execution_count": 37,
     "metadata": {},
     "output_type": "execute_result"
    }
   ],
   "source": [
    "pd.to_datetime(\"2024-07-27 13:32:20\").date() >= pd.to_datetime(\"2024-07-28 13:32:20\").date()"
   ]
  },
  {
   "cell_type": "code",
   "execution_count": 38,
   "metadata": {},
   "outputs": [
    {
     "data": {
      "text/plain": [
       "0     2020-10-02 13:56:39\n",
       "1     2020-10-07 18:53:08\n",
       "2     2020-10-02 13:30:55\n",
       "3     2020-10-02 12:35:18\n",
       "4     2020-10-02 13:43:25\n",
       "              ...        \n",
       "701   2020-10-07 19:37:00\n",
       "702   2020-10-07 21:00:58\n",
       "703   2020-10-07 21:27:26\n",
       "704   2020-10-02 14:00:50\n",
       "705   2020-10-02 15:29:44\n",
       "Name: 時間, Length: 706, dtype: datetime64[ns]"
      ]
     },
     "execution_count": 38,
     "metadata": {},
     "output_type": "execute_result"
    }
   ],
   "source": [
    "pd.to_datetime(df[\"時間\"])"
   ]
  },
  {
   "cell_type": "code",
   "execution_count": 40,
   "metadata": {},
   "outputs": [
    {
     "ename": "DateParseError",
     "evalue": "Unknown datetime string format, unable to parse: 2024//k/07///24, at position 0",
     "output_type": "error",
     "traceback": [
      "\u001b[0;31m---------------------------------------------------------------------------\u001b[0m",
      "\u001b[0;31mDateParseError\u001b[0m                            Traceback (most recent call last)",
      "Cell \u001b[0;32mIn[40], line 3\u001b[0m\n\u001b[1;32m      1\u001b[0m datetime_str \u001b[38;5;241m=\u001b[39m \u001b[38;5;124m\"\u001b[39m\u001b[38;5;124m2024//k/07///24\u001b[39m\u001b[38;5;124m\"\u001b[39m\n\u001b[0;32m----> 3\u001b[0m \u001b[43mpd\u001b[49m\u001b[38;5;241;43m.\u001b[39;49m\u001b[43mto_datetime\u001b[49m\u001b[43m(\u001b[49m\u001b[43mdatetime_str\u001b[49m\u001b[43m)\u001b[49m\n",
      "File \u001b[0;32m/usr/local/lib/python3.12/site-packages/pandas/core/tools/datetimes.py:1101\u001b[0m, in \u001b[0;36mto_datetime\u001b[0;34m(arg, errors, dayfirst, yearfirst, utc, format, exact, unit, infer_datetime_format, origin, cache)\u001b[0m\n\u001b[1;32m   1099\u001b[0m         result \u001b[38;5;241m=\u001b[39m convert_listlike(argc, \u001b[38;5;28mformat\u001b[39m)\n\u001b[1;32m   1100\u001b[0m \u001b[38;5;28;01melse\u001b[39;00m:\n\u001b[0;32m-> 1101\u001b[0m     result \u001b[38;5;241m=\u001b[39m \u001b[43mconvert_listlike\u001b[49m\u001b[43m(\u001b[49m\u001b[43mnp\u001b[49m\u001b[38;5;241;43m.\u001b[39;49m\u001b[43marray\u001b[49m\u001b[43m(\u001b[49m\u001b[43m[\u001b[49m\u001b[43marg\u001b[49m\u001b[43m]\u001b[49m\u001b[43m)\u001b[49m\u001b[43m,\u001b[49m\u001b[43m \u001b[49m\u001b[38;5;28;43mformat\u001b[39;49m\u001b[43m)\u001b[49m[\u001b[38;5;241m0\u001b[39m]\n\u001b[1;32m   1102\u001b[0m     \u001b[38;5;28;01mif\u001b[39;00m \u001b[38;5;28misinstance\u001b[39m(arg, \u001b[38;5;28mbool\u001b[39m) \u001b[38;5;129;01mand\u001b[39;00m \u001b[38;5;28misinstance\u001b[39m(result, np\u001b[38;5;241m.\u001b[39mbool_):\n\u001b[1;32m   1103\u001b[0m         result \u001b[38;5;241m=\u001b[39m \u001b[38;5;28mbool\u001b[39m(result)  \u001b[38;5;66;03m# TODO: avoid this kludge.\u001b[39;00m\n",
      "File \u001b[0;32m/usr/local/lib/python3.12/site-packages/pandas/core/tools/datetimes.py:435\u001b[0m, in \u001b[0;36m_convert_listlike_datetimes\u001b[0;34m(arg, format, name, utc, unit, errors, dayfirst, yearfirst, exact)\u001b[0m\n\u001b[1;32m    432\u001b[0m \u001b[38;5;28;01mif\u001b[39;00m \u001b[38;5;28mformat\u001b[39m \u001b[38;5;129;01mis\u001b[39;00m \u001b[38;5;129;01mnot\u001b[39;00m \u001b[38;5;28;01mNone\u001b[39;00m \u001b[38;5;129;01mand\u001b[39;00m \u001b[38;5;28mformat\u001b[39m \u001b[38;5;241m!=\u001b[39m \u001b[38;5;124m\"\u001b[39m\u001b[38;5;124mmixed\u001b[39m\u001b[38;5;124m\"\u001b[39m:\n\u001b[1;32m    433\u001b[0m     \u001b[38;5;28;01mreturn\u001b[39;00m _array_strptime_with_fallback(arg, name, utc, \u001b[38;5;28mformat\u001b[39m, exact, errors)\n\u001b[0;32m--> 435\u001b[0m result, tz_parsed \u001b[38;5;241m=\u001b[39m \u001b[43mobjects_to_datetime64\u001b[49m\u001b[43m(\u001b[49m\n\u001b[1;32m    436\u001b[0m \u001b[43m    \u001b[49m\u001b[43marg\u001b[49m\u001b[43m,\u001b[49m\n\u001b[1;32m    437\u001b[0m \u001b[43m    \u001b[49m\u001b[43mdayfirst\u001b[49m\u001b[38;5;241;43m=\u001b[39;49m\u001b[43mdayfirst\u001b[49m\u001b[43m,\u001b[49m\n\u001b[1;32m    438\u001b[0m \u001b[43m    \u001b[49m\u001b[43myearfirst\u001b[49m\u001b[38;5;241;43m=\u001b[39;49m\u001b[43myearfirst\u001b[49m\u001b[43m,\u001b[49m\n\u001b[1;32m    439\u001b[0m \u001b[43m    \u001b[49m\u001b[43mutc\u001b[49m\u001b[38;5;241;43m=\u001b[39;49m\u001b[43mutc\u001b[49m\u001b[43m,\u001b[49m\n\u001b[1;32m    440\u001b[0m \u001b[43m    \u001b[49m\u001b[43merrors\u001b[49m\u001b[38;5;241;43m=\u001b[39;49m\u001b[43merrors\u001b[49m\u001b[43m,\u001b[49m\n\u001b[1;32m    441\u001b[0m \u001b[43m    \u001b[49m\u001b[43mallow_object\u001b[49m\u001b[38;5;241;43m=\u001b[39;49m\u001b[38;5;28;43;01mTrue\u001b[39;49;00m\u001b[43m,\u001b[49m\n\u001b[1;32m    442\u001b[0m \u001b[43m\u001b[49m\u001b[43m)\u001b[49m\n\u001b[1;32m    444\u001b[0m \u001b[38;5;28;01mif\u001b[39;00m tz_parsed \u001b[38;5;129;01mis\u001b[39;00m \u001b[38;5;129;01mnot\u001b[39;00m \u001b[38;5;28;01mNone\u001b[39;00m:\n\u001b[1;32m    445\u001b[0m     \u001b[38;5;66;03m# We can take a shortcut since the datetime64 numpy array\u001b[39;00m\n\u001b[1;32m    446\u001b[0m     \u001b[38;5;66;03m# is in UTC\u001b[39;00m\n\u001b[1;32m    447\u001b[0m     out_unit \u001b[38;5;241m=\u001b[39m np\u001b[38;5;241m.\u001b[39mdatetime_data(result\u001b[38;5;241m.\u001b[39mdtype)[\u001b[38;5;241m0\u001b[39m]\n",
      "File \u001b[0;32m/usr/local/lib/python3.12/site-packages/pandas/core/arrays/datetimes.py:2398\u001b[0m, in \u001b[0;36mobjects_to_datetime64\u001b[0;34m(data, dayfirst, yearfirst, utc, errors, allow_object, out_unit)\u001b[0m\n\u001b[1;32m   2395\u001b[0m \u001b[38;5;66;03m# if str-dtype, convert\u001b[39;00m\n\u001b[1;32m   2396\u001b[0m data \u001b[38;5;241m=\u001b[39m np\u001b[38;5;241m.\u001b[39masarray(data, dtype\u001b[38;5;241m=\u001b[39mnp\u001b[38;5;241m.\u001b[39mobject_)\n\u001b[0;32m-> 2398\u001b[0m result, tz_parsed \u001b[38;5;241m=\u001b[39m \u001b[43mtslib\u001b[49m\u001b[38;5;241;43m.\u001b[39;49m\u001b[43marray_to_datetime\u001b[49m\u001b[43m(\u001b[49m\n\u001b[1;32m   2399\u001b[0m \u001b[43m    \u001b[49m\u001b[43mdata\u001b[49m\u001b[43m,\u001b[49m\n\u001b[1;32m   2400\u001b[0m \u001b[43m    \u001b[49m\u001b[43merrors\u001b[49m\u001b[38;5;241;43m=\u001b[39;49m\u001b[43merrors\u001b[49m\u001b[43m,\u001b[49m\n\u001b[1;32m   2401\u001b[0m \u001b[43m    \u001b[49m\u001b[43mutc\u001b[49m\u001b[38;5;241;43m=\u001b[39;49m\u001b[43mutc\u001b[49m\u001b[43m,\u001b[49m\n\u001b[1;32m   2402\u001b[0m \u001b[43m    \u001b[49m\u001b[43mdayfirst\u001b[49m\u001b[38;5;241;43m=\u001b[39;49m\u001b[43mdayfirst\u001b[49m\u001b[43m,\u001b[49m\n\u001b[1;32m   2403\u001b[0m \u001b[43m    \u001b[49m\u001b[43myearfirst\u001b[49m\u001b[38;5;241;43m=\u001b[39;49m\u001b[43myearfirst\u001b[49m\u001b[43m,\u001b[49m\n\u001b[1;32m   2404\u001b[0m \u001b[43m    \u001b[49m\u001b[43mcreso\u001b[49m\u001b[38;5;241;43m=\u001b[39;49m\u001b[43mabbrev_to_npy_unit\u001b[49m\u001b[43m(\u001b[49m\u001b[43mout_unit\u001b[49m\u001b[43m)\u001b[49m\u001b[43m,\u001b[49m\n\u001b[1;32m   2405\u001b[0m \u001b[43m\u001b[49m\u001b[43m)\u001b[49m\n\u001b[1;32m   2407\u001b[0m \u001b[38;5;28;01mif\u001b[39;00m tz_parsed \u001b[38;5;129;01mis\u001b[39;00m \u001b[38;5;129;01mnot\u001b[39;00m \u001b[38;5;28;01mNone\u001b[39;00m:\n\u001b[1;32m   2408\u001b[0m     \u001b[38;5;66;03m# We can take a shortcut since the datetime64 numpy array\u001b[39;00m\n\u001b[1;32m   2409\u001b[0m     \u001b[38;5;66;03m#  is in UTC\u001b[39;00m\n\u001b[1;32m   2410\u001b[0m     \u001b[38;5;28;01mreturn\u001b[39;00m result, tz_parsed\n",
      "File \u001b[0;32mtslib.pyx:414\u001b[0m, in \u001b[0;36mpandas._libs.tslib.array_to_datetime\u001b[0;34m()\u001b[0m\n",
      "File \u001b[0;32mtslib.pyx:596\u001b[0m, in \u001b[0;36mpandas._libs.tslib.array_to_datetime\u001b[0;34m()\u001b[0m\n",
      "File \u001b[0;32mtslib.pyx:553\u001b[0m, in \u001b[0;36mpandas._libs.tslib.array_to_datetime\u001b[0;34m()\u001b[0m\n",
      "File \u001b[0;32mconversion.pyx:641\u001b[0m, in \u001b[0;36mpandas._libs.tslibs.conversion.convert_str_to_tsobject\u001b[0;34m()\u001b[0m\n",
      "File \u001b[0;32mparsing.pyx:336\u001b[0m, in \u001b[0;36mpandas._libs.tslibs.parsing.parse_datetime_string\u001b[0;34m()\u001b[0m\n",
      "File \u001b[0;32mparsing.pyx:666\u001b[0m, in \u001b[0;36mpandas._libs.tslibs.parsing.dateutil_parse\u001b[0;34m()\u001b[0m\n",
      "\u001b[0;31mDateParseError\u001b[0m: Unknown datetime string format, unable to parse: 2024//k/07///24, at position 0"
     ]
    }
   ],
   "source": [
    "datetime_str = \"2024//k/07///24\"\n",
    "\n",
    "pd.to_datetime(datetime_str)"
   ]
  },
  {
   "cell_type": "code",
   "execution_count": 42,
   "metadata": {},
   "outputs": [
    {
     "data": {
      "text/plain": [
       "datetime.datetime(2024, 7, 24, 0, 0)"
      ]
     },
     "execution_count": 42,
     "metadata": {},
     "output_type": "execute_result"
    }
   ],
   "source": [
    "from datetime import datetime\n",
    "\n",
    "datetime_str = \"2024//k/07///24\"\n",
    "datetime.strptime(datetime_str, \"%Y//k/%m///%d\")"
   ]
  },
  {
   "cell_type": "code",
   "execution_count": 45,
   "metadata": {},
   "outputs": [
    {
     "name": "stdout",
     "output_type": "stream",
     "text": [
      "this is Apple\n",
      "This is Apple\n",
      "This is Apple\n"
     ]
    }
   ],
   "source": [
    "print(\n",
    "    \"this is %s\"%(\"Apple\")\n",
    ")\n",
    "\n",
    "print(\n",
    "    \"This is {}\".format(\"Apple\")\n",
    ")\n",
    "\n",
    "tmp_var = \"Apple\"\n",
    "print(\n",
    "    f\"This is {tmp_var}\"\n",
    ")"
   ]
  },
  {
   "cell_type": "code",
   "execution_count": 47,
   "metadata": {},
   "outputs": [
    {
     "name": "stdout",
     "output_type": "stream",
     "text": [
      "This is 123\n"
     ]
    }
   ],
   "source": [
    "print(\"This is %d\"%(123.123))"
   ]
  },
  {
   "cell_type": "code",
   "execution_count": 48,
   "metadata": {},
   "outputs": [
    {
     "name": "stdout",
     "output_type": "stream",
     "text": [
      "This is 123.123000\n"
     ]
    }
   ],
   "source": [
    "print(\"This is %f\"%(123.123))"
   ]
  },
  {
   "cell_type": "code",
   "execution_count": 70,
   "metadata": {},
   "outputs": [
    {
     "data": {
      "text/html": [
       "<div>\n",
       "<style scoped>\n",
       "    .dataframe tbody tr th:only-of-type {\n",
       "        vertical-align: middle;\n",
       "    }\n",
       "\n",
       "    .dataframe tbody tr th {\n",
       "        vertical-align: top;\n",
       "    }\n",
       "\n",
       "    .dataframe thead th {\n",
       "        text-align: right;\n",
       "    }\n",
       "</style>\n",
       "<table border=\"1\" class=\"dataframe\">\n",
       "  <thead>\n",
       "    <tr style=\"text-align: right;\">\n",
       "      <th></th>\n",
       "      <th>推</th>\n",
       "      <th>噓</th>\n",
       "      <th>分數</th>\n",
       "      <th>作者</th>\n",
       "      <th>標題</th>\n",
       "      <th>時間</th>\n",
       "    </tr>\n",
       "  </thead>\n",
       "  <tbody>\n",
       "    <tr>\n",
       "      <th>0</th>\n",
       "      <td>25</td>\n",
       "      <td>4</td>\n",
       "      <td>21</td>\n",
       "      <td>作者: Rusnake5566 (魯蛇+56 PTT最強帳號)</td>\n",
       "      <td>標題: [問卦] 兩個候選人選前一個月同時陣亡的可能性</td>\n",
       "      <td>Fri Oct  2 13:56:39 2020</td>\n",
       "    </tr>\n",
       "    <tr>\n",
       "      <th>1</th>\n",
       "      <td>11</td>\n",
       "      <td>11</td>\n",
       "      <td>0</td>\n",
       "      <td>作者: LoveMakeLove (ボケ)</td>\n",
       "      <td>標題: [新聞]江啟臣：兩岸是不對稱的戰爭 從募兵改徵兵</td>\n",
       "      <td>Wed Oct  7 18:53:08 2020</td>\n",
       "    </tr>\n",
       "    <tr>\n",
       "      <th>2</th>\n",
       "      <td>20</td>\n",
       "      <td>0</td>\n",
       "      <td>20</td>\n",
       "      <td>作者: MintSu (Simon)</td>\n",
       "      <td>標題: [問卦] 如果川普老婆死於武漢肺炎會怎麼樣？</td>\n",
       "      <td>Fri Oct  2 13:30:55 2020</td>\n",
       "    </tr>\n",
       "    <tr>\n",
       "      <th>3</th>\n",
       "      <td>31</td>\n",
       "      <td>2</td>\n",
       "      <td>29</td>\n",
       "      <td>作者: seiya2000 (風見)</td>\n",
       "      <td>標題: [問卦] 為什麼古代生物體型可以長到這麼大？</td>\n",
       "      <td>Fri Oct  2 12:35:18 2020</td>\n",
       "    </tr>\n",
       "    <tr>\n",
       "      <th>4</th>\n",
       "      <td>106</td>\n",
       "      <td>6</td>\n",
       "      <td>100</td>\n",
       "      <td>作者: kasumi5566 (霞)</td>\n",
       "      <td>標題: [問卦] 支那女生是不是都沒錢修補衣服</td>\n",
       "      <td>Fri Oct  2 13:43:25 2020</td>\n",
       "    </tr>\n",
       "    <tr>\n",
       "      <th>...</th>\n",
       "      <td>...</td>\n",
       "      <td>...</td>\n",
       "      <td>...</td>\n",
       "      <td>...</td>\n",
       "      <td>...</td>\n",
       "      <td>...</td>\n",
       "    </tr>\n",
       "    <tr>\n",
       "      <th>701</th>\n",
       "      <td>5</td>\n",
       "      <td>0</td>\n",
       "      <td>5</td>\n",
       "      <td>作者: doraBBO (天才小釣手)</td>\n",
       "      <td>標題: [問卦] 為什麼要相信房子會跌不能買這種話？</td>\n",
       "      <td>Wed Oct  7 19:37:00 2020</td>\n",
       "    </tr>\n",
       "    <tr>\n",
       "      <th>702</th>\n",
       "      <td>7</td>\n",
       "      <td>0</td>\n",
       "      <td>7</td>\n",
       "      <td>作者: nothisman (在人海中迷失)</td>\n",
       "      <td>標題: [新聞] 地表「最胖肥熊」出爐！　635kg棕熊挺「</td>\n",
       "      <td>Wed Oct  7 21:00:58 2020</td>\n",
       "    </tr>\n",
       "    <tr>\n",
       "      <th>703</th>\n",
       "      <td>0</td>\n",
       "      <td>0</td>\n",
       "      <td>0</td>\n",
       "      <td>作者: wa778895 (oilsunbright)</td>\n",
       "      <td>標題: [問卦] 我是被下套了嗎？</td>\n",
       "      <td>Wed Oct  7 21:27:26 2020</td>\n",
       "    </tr>\n",
       "    <tr>\n",
       "      <th>704</th>\n",
       "      <td>15</td>\n",
       "      <td>4</td>\n",
       "      <td>11</td>\n",
       "      <td>作者: stan0720 (Kimo)</td>\n",
       "      <td>標題: [問卦] 認真問 人一天可以走幾公里呀？</td>\n",
       "      <td>Fri Oct  2 14:00:50 2020</td>\n",
       "    </tr>\n",
       "    <tr>\n",
       "      <th>705</th>\n",
       "      <td>5</td>\n",
       "      <td>0</td>\n",
       "      <td>5</td>\n",
       "      <td>作者: bigtreelife (Tree)</td>\n",
       "      <td>標題: [問卦] 叫外送的年輕人都是什麼人</td>\n",
       "      <td>Fri Oct  2 15:29:44 2020</td>\n",
       "    </tr>\n",
       "  </tbody>\n",
       "</table>\n",
       "<p>702 rows × 6 columns</p>\n",
       "</div>"
      ],
      "text/plain": [
       "       推   噓   分數                               作者  \\\n",
       "0     25   4   21  作者: Rusnake5566 (魯蛇+56 PTT最強帳號)   \n",
       "1     11  11    0            作者: LoveMakeLove (ボケ)   \n",
       "2     20   0   20               作者: MintSu (Simon)   \n",
       "3     31   2   29               作者: seiya2000 (風見)   \n",
       "4    106   6  100               作者: kasumi5566 (霞)   \n",
       "..   ...  ..  ...                              ...   \n",
       "701    5   0    5              作者: doraBBO (天才小釣手)   \n",
       "702    7   0    7           作者: nothisman (在人海中迷失)   \n",
       "703    0   0    0      作者: wa778895 (oilsunbright)   \n",
       "704   15   4   11              作者: stan0720 (Kimo)   \n",
       "705    5   0    5           作者: bigtreelife (Tree)   \n",
       "\n",
       "                                 標題                        時間  \n",
       "0       標題: [問卦] 兩個候選人選前一個月同時陣亡的可能性  Fri Oct  2 13:56:39 2020  \n",
       "1      標題: [新聞]江啟臣：兩岸是不對稱的戰爭 從募兵改徵兵  Wed Oct  7 18:53:08 2020  \n",
       "2        標題: [問卦] 如果川普老婆死於武漢肺炎會怎麼樣？  Fri Oct  2 13:30:55 2020  \n",
       "3        標題: [問卦] 為什麼古代生物體型可以長到這麼大？  Fri Oct  2 12:35:18 2020  \n",
       "4           標題: [問卦] 支那女生是不是都沒錢修補衣服  Fri Oct  2 13:43:25 2020  \n",
       "..                              ...                       ...  \n",
       "701      標題: [問卦] 為什麼要相信房子會跌不能買這種話？  Wed Oct  7 19:37:00 2020  \n",
       "702  標題: [新聞] 地表「最胖肥熊」出爐！　635kg棕熊挺「  Wed Oct  7 21:00:58 2020  \n",
       "703               標題: [問卦] 我是被下套了嗎？  Wed Oct  7 21:27:26 2020  \n",
       "704        標題: [問卦] 認真問 人一天可以走幾公里呀？  Fri Oct  2 14:00:50 2020  \n",
       "705           標題: [問卦] 叫外送的年輕人都是什麼人  Fri Oct  2 15:29:44 2020  \n",
       "\n",
       "[702 rows x 6 columns]"
      ]
     },
     "execution_count": 70,
     "metadata": {},
     "output_type": "execute_result"
    }
   ],
   "source": [
    "df[\n",
    "    pd.to_datetime(df[\"時間\"]) > datetime(2020, 10, 2)\n",
    "]"
   ]
  },
  {
   "cell_type": "code",
   "execution_count": 71,
   "metadata": {},
   "outputs": [
    {
     "data": {
      "text/plain": [
       "0     2020-10-02 13:56:39\n",
       "1     2020-10-07 18:53:08\n",
       "2     2020-10-02 13:30:55\n",
       "3     2020-10-02 12:35:18\n",
       "4     2020-10-02 13:43:25\n",
       "              ...        \n",
       "701   2020-10-07 19:37:00\n",
       "702   2020-10-07 21:00:58\n",
       "703   2020-10-07 21:27:26\n",
       "704   2020-10-02 14:00:50\n",
       "705   2020-10-02 15:29:44\n",
       "Name: 時間, Length: 706, dtype: datetime64[ns]"
      ]
     },
     "execution_count": 71,
     "metadata": {},
     "output_type": "execute_result"
    }
   ],
   "source": [
    "pd.to_datetime(df[\"時間\"])"
   ]
  },
  {
   "cell_type": "code",
   "execution_count": 72,
   "metadata": {},
   "outputs": [
    {
     "data": {
      "text/html": [
       "<div>\n",
       "<style scoped>\n",
       "    .dataframe tbody tr th:only-of-type {\n",
       "        vertical-align: middle;\n",
       "    }\n",
       "\n",
       "    .dataframe tbody tr th {\n",
       "        vertical-align: top;\n",
       "    }\n",
       "\n",
       "    .dataframe thead th {\n",
       "        text-align: right;\n",
       "    }\n",
       "</style>\n",
       "<table border=\"1\" class=\"dataframe\">\n",
       "  <thead>\n",
       "    <tr style=\"text-align: right;\">\n",
       "      <th></th>\n",
       "      <th>推</th>\n",
       "      <th>噓</th>\n",
       "      <th>分數</th>\n",
       "      <th>作者</th>\n",
       "      <th>標題</th>\n",
       "      <th>時間</th>\n",
       "      <th>dt_parsed</th>\n",
       "    </tr>\n",
       "  </thead>\n",
       "  <tbody>\n",
       "    <tr>\n",
       "      <th>0</th>\n",
       "      <td>25</td>\n",
       "      <td>4</td>\n",
       "      <td>21</td>\n",
       "      <td>作者: Rusnake5566 (魯蛇+56 PTT最強帳號)</td>\n",
       "      <td>標題: [問卦] 兩個候選人選前一個月同時陣亡的可能性</td>\n",
       "      <td>Fri Oct  2 13:56:39 2020</td>\n",
       "      <td>2020-10-02 13:56:39</td>\n",
       "    </tr>\n",
       "    <tr>\n",
       "      <th>1</th>\n",
       "      <td>11</td>\n",
       "      <td>11</td>\n",
       "      <td>0</td>\n",
       "      <td>作者: LoveMakeLove (ボケ)</td>\n",
       "      <td>標題: [新聞]江啟臣：兩岸是不對稱的戰爭 從募兵改徵兵</td>\n",
       "      <td>Wed Oct  7 18:53:08 2020</td>\n",
       "      <td>2020-10-07 18:53:08</td>\n",
       "    </tr>\n",
       "    <tr>\n",
       "      <th>2</th>\n",
       "      <td>20</td>\n",
       "      <td>0</td>\n",
       "      <td>20</td>\n",
       "      <td>作者: MintSu (Simon)</td>\n",
       "      <td>標題: [問卦] 如果川普老婆死於武漢肺炎會怎麼樣？</td>\n",
       "      <td>Fri Oct  2 13:30:55 2020</td>\n",
       "      <td>2020-10-02 13:30:55</td>\n",
       "    </tr>\n",
       "    <tr>\n",
       "      <th>3</th>\n",
       "      <td>31</td>\n",
       "      <td>2</td>\n",
       "      <td>29</td>\n",
       "      <td>作者: seiya2000 (風見)</td>\n",
       "      <td>標題: [問卦] 為什麼古代生物體型可以長到這麼大？</td>\n",
       "      <td>Fri Oct  2 12:35:18 2020</td>\n",
       "      <td>2020-10-02 12:35:18</td>\n",
       "    </tr>\n",
       "    <tr>\n",
       "      <th>4</th>\n",
       "      <td>106</td>\n",
       "      <td>6</td>\n",
       "      <td>100</td>\n",
       "      <td>作者: kasumi5566 (霞)</td>\n",
       "      <td>標題: [問卦] 支那女生是不是都沒錢修補衣服</td>\n",
       "      <td>Fri Oct  2 13:43:25 2020</td>\n",
       "      <td>2020-10-02 13:43:25</td>\n",
       "    </tr>\n",
       "    <tr>\n",
       "      <th>...</th>\n",
       "      <td>...</td>\n",
       "      <td>...</td>\n",
       "      <td>...</td>\n",
       "      <td>...</td>\n",
       "      <td>...</td>\n",
       "      <td>...</td>\n",
       "      <td>...</td>\n",
       "    </tr>\n",
       "    <tr>\n",
       "      <th>701</th>\n",
       "      <td>5</td>\n",
       "      <td>0</td>\n",
       "      <td>5</td>\n",
       "      <td>作者: doraBBO (天才小釣手)</td>\n",
       "      <td>標題: [問卦] 為什麼要相信房子會跌不能買這種話？</td>\n",
       "      <td>Wed Oct  7 19:37:00 2020</td>\n",
       "      <td>2020-10-07 19:37:00</td>\n",
       "    </tr>\n",
       "    <tr>\n",
       "      <th>702</th>\n",
       "      <td>7</td>\n",
       "      <td>0</td>\n",
       "      <td>7</td>\n",
       "      <td>作者: nothisman (在人海中迷失)</td>\n",
       "      <td>標題: [新聞] 地表「最胖肥熊」出爐！　635kg棕熊挺「</td>\n",
       "      <td>Wed Oct  7 21:00:58 2020</td>\n",
       "      <td>2020-10-07 21:00:58</td>\n",
       "    </tr>\n",
       "    <tr>\n",
       "      <th>703</th>\n",
       "      <td>0</td>\n",
       "      <td>0</td>\n",
       "      <td>0</td>\n",
       "      <td>作者: wa778895 (oilsunbright)</td>\n",
       "      <td>標題: [問卦] 我是被下套了嗎？</td>\n",
       "      <td>Wed Oct  7 21:27:26 2020</td>\n",
       "      <td>2020-10-07 21:27:26</td>\n",
       "    </tr>\n",
       "    <tr>\n",
       "      <th>704</th>\n",
       "      <td>15</td>\n",
       "      <td>4</td>\n",
       "      <td>11</td>\n",
       "      <td>作者: stan0720 (Kimo)</td>\n",
       "      <td>標題: [問卦] 認真問 人一天可以走幾公里呀？</td>\n",
       "      <td>Fri Oct  2 14:00:50 2020</td>\n",
       "      <td>2020-10-02 14:00:50</td>\n",
       "    </tr>\n",
       "    <tr>\n",
       "      <th>705</th>\n",
       "      <td>5</td>\n",
       "      <td>0</td>\n",
       "      <td>5</td>\n",
       "      <td>作者: bigtreelife (Tree)</td>\n",
       "      <td>標題: [問卦] 叫外送的年輕人都是什麼人</td>\n",
       "      <td>Fri Oct  2 15:29:44 2020</td>\n",
       "      <td>2020-10-02 15:29:44</td>\n",
       "    </tr>\n",
       "  </tbody>\n",
       "</table>\n",
       "<p>706 rows × 7 columns</p>\n",
       "</div>"
      ],
      "text/plain": [
       "       推   噓   分數                               作者  \\\n",
       "0     25   4   21  作者: Rusnake5566 (魯蛇+56 PTT最強帳號)   \n",
       "1     11  11    0            作者: LoveMakeLove (ボケ)   \n",
       "2     20   0   20               作者: MintSu (Simon)   \n",
       "3     31   2   29               作者: seiya2000 (風見)   \n",
       "4    106   6  100               作者: kasumi5566 (霞)   \n",
       "..   ...  ..  ...                              ...   \n",
       "701    5   0    5              作者: doraBBO (天才小釣手)   \n",
       "702    7   0    7           作者: nothisman (在人海中迷失)   \n",
       "703    0   0    0      作者: wa778895 (oilsunbright)   \n",
       "704   15   4   11              作者: stan0720 (Kimo)   \n",
       "705    5   0    5           作者: bigtreelife (Tree)   \n",
       "\n",
       "                                 標題                        時間  \\\n",
       "0       標題: [問卦] 兩個候選人選前一個月同時陣亡的可能性  Fri Oct  2 13:56:39 2020   \n",
       "1      標題: [新聞]江啟臣：兩岸是不對稱的戰爭 從募兵改徵兵  Wed Oct  7 18:53:08 2020   \n",
       "2        標題: [問卦] 如果川普老婆死於武漢肺炎會怎麼樣？  Fri Oct  2 13:30:55 2020   \n",
       "3        標題: [問卦] 為什麼古代生物體型可以長到這麼大？  Fri Oct  2 12:35:18 2020   \n",
       "4           標題: [問卦] 支那女生是不是都沒錢修補衣服  Fri Oct  2 13:43:25 2020   \n",
       "..                              ...                       ...   \n",
       "701      標題: [問卦] 為什麼要相信房子會跌不能買這種話？  Wed Oct  7 19:37:00 2020   \n",
       "702  標題: [新聞] 地表「最胖肥熊」出爐！　635kg棕熊挺「  Wed Oct  7 21:00:58 2020   \n",
       "703               標題: [問卦] 我是被下套了嗎？  Wed Oct  7 21:27:26 2020   \n",
       "704        標題: [問卦] 認真問 人一天可以走幾公里呀？  Fri Oct  2 14:00:50 2020   \n",
       "705           標題: [問卦] 叫外送的年輕人都是什麼人  Fri Oct  2 15:29:44 2020   \n",
       "\n",
       "              dt_parsed  \n",
       "0   2020-10-02 13:56:39  \n",
       "1   2020-10-07 18:53:08  \n",
       "2   2020-10-02 13:30:55  \n",
       "3   2020-10-02 12:35:18  \n",
       "4   2020-10-02 13:43:25  \n",
       "..                  ...  \n",
       "701 2020-10-07 19:37:00  \n",
       "702 2020-10-07 21:00:58  \n",
       "703 2020-10-07 21:27:26  \n",
       "704 2020-10-02 14:00:50  \n",
       "705 2020-10-02 15:29:44  \n",
       "\n",
       "[706 rows x 7 columns]"
      ]
     },
     "execution_count": 72,
     "metadata": {},
     "output_type": "execute_result"
    }
   ],
   "source": [
    "df[\"dt_parsed\"] = pd.to_datetime(df[\"時間\"])\n",
    "\n",
    "df"
   ]
  },
  {
   "cell_type": "code",
   "execution_count": 74,
   "metadata": {},
   "outputs": [
    {
     "data": {
      "text/plain": [
       "0       25.0\n",
       "1       11.0\n",
       "2       20.0\n",
       "3       31.0\n",
       "4      106.0\n",
       "       ...  \n",
       "701      5.0\n",
       "702      7.0\n",
       "703      0.0\n",
       "704     15.0\n",
       "705      5.0\n",
       "Name: 推, Length: 706, dtype: float64"
      ]
     },
     "execution_count": 74,
     "metadata": {},
     "output_type": "execute_result"
    }
   ],
   "source": [
    "df[\"推\"].astype(float)"
   ]
  },
  {
   "cell_type": "code",
   "execution_count": 75,
   "metadata": {},
   "outputs": [
    {
     "data": {
      "text/plain": [
       "0       25\n",
       "1       11\n",
       "2       20\n",
       "3       31\n",
       "4      106\n",
       "      ... \n",
       "701      5\n",
       "702      7\n",
       "703      0\n",
       "704     15\n",
       "705      5\n",
       "Name: 推, Length: 706, dtype: object"
      ]
     },
     "execution_count": 75,
     "metadata": {},
     "output_type": "execute_result"
    }
   ],
   "source": [
    "df[\"推\"].astype(str)"
   ]
  },
  {
   "cell_type": "code",
   "execution_count": null,
   "metadata": {},
   "outputs": [],
   "source": []
  }
 ],
 "metadata": {
  "kernelspec": {
   "display_name": "Python 3",
   "language": "python",
   "name": "python3"
  },
  "language_info": {
   "codemirror_mode": {
    "name": "ipython",
    "version": 3
   },
   "file_extension": ".py",
   "mimetype": "text/x-python",
   "name": "python",
   "nbconvert_exporter": "python",
   "pygments_lexer": "ipython3",
   "version": "3.12.4"
  }
 },
 "nbformat": 4,
 "nbformat_minor": 2
}
