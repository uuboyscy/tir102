{
 "cells": [
  {
   "cell_type": "code",
   "execution_count": 1,
   "metadata": {},
   "outputs": [],
   "source": [
    "from google.cloud import bigquery\n",
    "from google.oauth2.service_account import Credentials"
   ]
  },
  {
   "cell_type": "code",
   "execution_count": 2,
   "metadata": {},
   "outputs": [],
   "source": [
    "# Credential scope\n",
    "GCP_CREDENTIAL_SCOPE = [\n",
    "    \"https://www.googleapis.com/auth/cloud-platform\",\n",
    "    \"https://www.googleapis.com/auth/drive\",\n",
    "    \"https://www.googleapis.com/auth/bigquery\",\n",
    "]\n",
    "\n",
    "# Using credentials file\n",
    "BIGQUERY_CREDENTIALS_FILE_PATH = \"bigquery-user.json\"\n",
    "CREDENTIALS = Credentials.from_service_account_file(\n",
    "    BIGQUERY_CREDENTIALS_FILE_PATH,\n",
    "    scopes=GCP_CREDENTIAL_SCOPE,\n",
    ")"
   ]
  },
  {
   "cell_type": "code",
   "execution_count": 4,
   "metadata": {},
   "outputs": [
    {
     "name": "stderr",
     "output_type": "stream",
     "text": [
      "/Users/uuboy.scy/Library/Caches/pypoetry/virtualenvs/gcp-qc6mN8cn-py3.12/lib/python3.12/site-packages/google/cloud/bigquery/table.py:1727: UserWarning: BigQuery Storage module not found, fetch data with the REST endpoint instead.\n",
      "  warnings.warn(\n"
     ]
    },
    {
     "data": {
      "text/html": [
       "<div>\n",
       "<style scoped>\n",
       "    .dataframe tbody tr th:only-of-type {\n",
       "        vertical-align: middle;\n",
       "    }\n",
       "\n",
       "    .dataframe tbody tr th {\n",
       "        vertical-align: top;\n",
       "    }\n",
       "\n",
       "    .dataframe thead th {\n",
       "        text-align: right;\n",
       "    }\n",
       "</style>\n",
       "<table border=\"1\" class=\"dataframe\">\n",
       "  <thead>\n",
       "    <tr style=\"text-align: right;\">\n",
       "      <th></th>\n",
       "      <th>TransactionID</th>\n",
       "      <th>ProductID</th>\n",
       "      <th>Quantity</th>\n",
       "      <th>SaleDate</th>\n",
       "    </tr>\n",
       "  </thead>\n",
       "  <tbody>\n",
       "    <tr>\n",
       "      <th>0</th>\n",
       "      <td>103</td>\n",
       "      <td>2001</td>\n",
       "      <td>1.0</td>\n",
       "      <td>2024-05-06</td>\n",
       "    </tr>\n",
       "    <tr>\n",
       "      <th>1</th>\n",
       "      <td>104</td>\n",
       "      <td>2004</td>\n",
       "      <td>4.0</td>\n",
       "      <td>2024-05-07</td>\n",
       "    </tr>\n",
       "  </tbody>\n",
       "</table>\n",
       "</div>"
      ],
      "text/plain": [
       "   TransactionID  ProductID  Quantity    SaleDate\n",
       "0            103       2001       1.0  2024-05-06\n",
       "1            104       2004       4.0  2024-05-07"
      ]
     },
     "execution_count": 4,
     "metadata": {},
     "output_type": "execute_result"
    }
   ],
   "source": [
    "def query_gsheets():\n",
    "    client = bigquery.Client(\n",
    "        credentials=CREDENTIALS,\n",
    "    )\n",
    "    query_job = client.query(\n",
    "        \"\"\"\n",
    "        SELECT *\n",
    "        FROM `tir102_demo.gsheets_external`\n",
    "        \"\"\"\n",
    "    )\n",
    "\n",
    "    return query_job.to_dataframe()\n",
    "\n",
    "df = query_gsheets()\n",
    "\n",
    "df"
   ]
  },
  {
   "cell_type": "code",
   "execution_count": null,
   "metadata": {},
   "outputs": [],
   "source": []
  }
 ],
 "metadata": {
  "kernelspec": {
   "display_name": "gcp-qc6mN8cn-py3.12",
   "language": "python",
   "name": "python3"
  },
  "language_info": {
   "codemirror_mode": {
    "name": "ipython",
    "version": 3
   },
   "file_extension": ".py",
   "mimetype": "text/x-python",
   "name": "python",
   "nbconvert_exporter": "python",
   "pygments_lexer": "ipython3",
   "version": "3.12.4"
  }
 },
 "nbformat": 4,
 "nbformat_minor": 2
}
